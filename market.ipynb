{
 "cells": [
  {
   "cell_type": "code",
   "execution_count": 4,
   "metadata": {},
   "outputs": [],
   "source": [
    "import pandas as pd\n",
    "import pandas_datareader.data as web\n",
    "\n",
    "import numpy as np\n",
    "import matplotlib as mpl\n",
    "import matplotlib.pyplot as plt\n",
    "import seaborn as sns"
   ]
  },
  {
   "cell_type": "markdown",
   "metadata": {},
   "source": [
    "# IMF-GDP GROWTH"
   ]
  },
  {
   "cell_type": "code",
   "execution_count": 5,
   "metadata": {},
   "outputs": [],
   "source": [
    "csv_GDP = pd.read_csv('C:/Users/ziqi zhu/Desktop/DATA/COUNTRY/IMF GDP ALL.csv')\n",
    "df_GDP = pd.DataFrame(csv_GDP)"
   ]
  },
  {
   "cell_type": "code",
   "execution_count": 6,
   "metadata": {},
   "outputs": [
    {
     "data": {
      "text/html": [
       "<div>\n",
       "<style scoped>\n",
       "    .dataframe tbody tr th:only-of-type {\n",
       "        vertical-align: middle;\n",
       "    }\n",
       "\n",
       "    .dataframe tbody tr th {\n",
       "        vertical-align: top;\n",
       "    }\n",
       "\n",
       "    .dataframe thead th {\n",
       "        text-align: right;\n",
       "    }\n",
       "</style>\n",
       "<table border=\"1\" class=\"dataframe\">\n",
       "  <thead>\n",
       "    <tr style=\"text-align: right;\">\n",
       "      <th></th>\n",
       "      <th>Real GDP growth (Annual percent change)</th>\n",
       "      <th>1980</th>\n",
       "      <th>1981</th>\n",
       "      <th>1982</th>\n",
       "      <th>1983</th>\n",
       "      <th>1984</th>\n",
       "      <th>1985</th>\n",
       "      <th>1986</th>\n",
       "      <th>1987</th>\n",
       "      <th>1988</th>\n",
       "      <th>...</th>\n",
       "      <th>2012</th>\n",
       "      <th>2013</th>\n",
       "      <th>2014</th>\n",
       "      <th>2015</th>\n",
       "      <th>2016</th>\n",
       "      <th>2017</th>\n",
       "      <th>2018</th>\n",
       "      <th>2019</th>\n",
       "      <th>2020</th>\n",
       "      <th>2021</th>\n",
       "    </tr>\n",
       "  </thead>\n",
       "  <tbody>\n",
       "    <tr>\n",
       "      <td>0</td>\n",
       "      <td>NaN</td>\n",
       "      <td>NaN</td>\n",
       "      <td>NaN</td>\n",
       "      <td>NaN</td>\n",
       "      <td>NaN</td>\n",
       "      <td>NaN</td>\n",
       "      <td>NaN</td>\n",
       "      <td>NaN</td>\n",
       "      <td>NaN</td>\n",
       "      <td>NaN</td>\n",
       "      <td>...</td>\n",
       "      <td>NaN</td>\n",
       "      <td>NaN</td>\n",
       "      <td>NaN</td>\n",
       "      <td>NaN</td>\n",
       "      <td>NaN</td>\n",
       "      <td>NaN</td>\n",
       "      <td>NaN</td>\n",
       "      <td>NaN</td>\n",
       "      <td>NaN</td>\n",
       "      <td>NaN</td>\n",
       "    </tr>\n",
       "    <tr>\n",
       "      <td>1</td>\n",
       "      <td>Afghanistan</td>\n",
       "      <td>no data</td>\n",
       "      <td>no data</td>\n",
       "      <td>no data</td>\n",
       "      <td>no data</td>\n",
       "      <td>no data</td>\n",
       "      <td>no data</td>\n",
       "      <td>no data</td>\n",
       "      <td>no data</td>\n",
       "      <td>no data</td>\n",
       "      <td>...</td>\n",
       "      <td>14</td>\n",
       "      <td>5.7</td>\n",
       "      <td>2.7</td>\n",
       "      <td>1</td>\n",
       "      <td>2.2</td>\n",
       "      <td>2.9</td>\n",
       "      <td>2.7</td>\n",
       "      <td>3</td>\n",
       "      <td>-3</td>\n",
       "      <td>4.5</td>\n",
       "    </tr>\n",
       "    <tr>\n",
       "      <td>2</td>\n",
       "      <td>Albania</td>\n",
       "      <td>2.7</td>\n",
       "      <td>5.7</td>\n",
       "      <td>2.9</td>\n",
       "      <td>1.1</td>\n",
       "      <td>2</td>\n",
       "      <td>-1.5</td>\n",
       "      <td>5.6</td>\n",
       "      <td>-0.8</td>\n",
       "      <td>-1.4</td>\n",
       "      <td>...</td>\n",
       "      <td>1.4</td>\n",
       "      <td>1</td>\n",
       "      <td>1.8</td>\n",
       "      <td>2.2</td>\n",
       "      <td>3.3</td>\n",
       "      <td>3.8</td>\n",
       "      <td>4.1</td>\n",
       "      <td>2.2</td>\n",
       "      <td>-5</td>\n",
       "      <td>8</td>\n",
       "    </tr>\n",
       "    <tr>\n",
       "      <td>3</td>\n",
       "      <td>Algeria</td>\n",
       "      <td>-5.4</td>\n",
       "      <td>3</td>\n",
       "      <td>6.4</td>\n",
       "      <td>5.4</td>\n",
       "      <td>5.6</td>\n",
       "      <td>5.6</td>\n",
       "      <td>-0.2</td>\n",
       "      <td>-0.7</td>\n",
       "      <td>-1.9</td>\n",
       "      <td>...</td>\n",
       "      <td>3.4</td>\n",
       "      <td>2.8</td>\n",
       "      <td>3.8</td>\n",
       "      <td>3.7</td>\n",
       "      <td>3.2</td>\n",
       "      <td>1.3</td>\n",
       "      <td>1.4</td>\n",
       "      <td>0.7</td>\n",
       "      <td>-5.2</td>\n",
       "      <td>6.2</td>\n",
       "    </tr>\n",
       "    <tr>\n",
       "      <td>4</td>\n",
       "      <td>Angola</td>\n",
       "      <td>2.4</td>\n",
       "      <td>-4.4</td>\n",
       "      <td>0</td>\n",
       "      <td>4.2</td>\n",
       "      <td>6</td>\n",
       "      <td>3.5</td>\n",
       "      <td>2.9</td>\n",
       "      <td>4.1</td>\n",
       "      <td>6.1</td>\n",
       "      <td>...</td>\n",
       "      <td>8.5</td>\n",
       "      <td>5</td>\n",
       "      <td>4.8</td>\n",
       "      <td>0.9</td>\n",
       "      <td>-2.6</td>\n",
       "      <td>-0.2</td>\n",
       "      <td>-1.2</td>\n",
       "      <td>-1.5</td>\n",
       "      <td>-1.4</td>\n",
       "      <td>2.6</td>\n",
       "    </tr>\n",
       "  </tbody>\n",
       "</table>\n",
       "<p>5 rows × 43 columns</p>\n",
       "</div>"
      ],
      "text/plain": [
       "  Real GDP growth (Annual percent change)     1980     1981     1982     1983  \\\n",
       "0                                     NaN      NaN      NaN      NaN      NaN   \n",
       "1                             Afghanistan  no data  no data  no data  no data   \n",
       "2                                 Albania      2.7      5.7      2.9      1.1   \n",
       "3                                 Algeria     -5.4        3      6.4      5.4   \n",
       "4                                  Angola      2.4     -4.4        0      4.2   \n",
       "\n",
       "      1984     1985     1986     1987     1988  ... 2012 2013 2014 2015  2016  \\\n",
       "0      NaN      NaN      NaN      NaN      NaN  ...  NaN  NaN  NaN  NaN   NaN   \n",
       "1  no data  no data  no data  no data  no data  ...   14  5.7  2.7    1   2.2   \n",
       "2        2     -1.5      5.6     -0.8     -1.4  ...  1.4    1  1.8  2.2   3.3   \n",
       "3      5.6      5.6     -0.2     -0.7     -1.9  ...  3.4  2.8  3.8  3.7   3.2   \n",
       "4        6      3.5      2.9      4.1      6.1  ...  8.5    5  4.8  0.9  -2.6   \n",
       "\n",
       "   2017  2018  2019  2020 2021  \n",
       "0   NaN   NaN   NaN   NaN  NaN  \n",
       "1   2.9   2.7     3    -3  4.5  \n",
       "2   3.8   4.1   2.2    -5    8  \n",
       "3   1.3   1.4   0.7  -5.2  6.2  \n",
       "4  -0.2  -1.2  -1.5  -1.4  2.6  \n",
       "\n",
       "[5 rows x 43 columns]"
      ]
     },
     "execution_count": 6,
     "metadata": {},
     "output_type": "execute_result"
    }
   ],
   "source": [
    "df_GDP.head()"
   ]
  },
  {
   "cell_type": "code",
   "execution_count": null,
   "metadata": {},
   "outputs": [],
   "source": [
    "df_GDP[['2020','2019']] = df_GDP[['2020','2019']].apply(pd.to_numeric,errors='coerce')"
   ]
  },
  {
   "cell_type": "code",
   "execution_count": null,
   "metadata": {},
   "outputs": [],
   "source": [
    "GDP=df_GDP.dropna(axis=0, how='any', inplace=True)\n",
    "#print(GDP)"
   ]
  },
  {
   "cell_type": "code",
   "execution_count": null,
   "metadata": {},
   "outputs": [],
   "source": [
    "#GDP= df_GDP.loc[df_GDP['SUBJECT'].str.contains('B1_GE')]\n",
    "#gdp=GDP.loc[df_GDP['Subject'].str.contains('Gross domestic product - expenditure approach')]"
   ]
  },
  {
   "cell_type": "code",
   "execution_count": null,
   "metadata": {},
   "outputs": [],
   "source": [
    "df_GDP['change of GDP growth rate']=df_GDP['2020']-df_GDP['2019']\n",
    "GDP_D=df_GDP.loc[:,['Real GDP growth (Annual percent change)','change of GDP growth rate']]\n",
    "Dgdp=GDP_D.sort_values(by=\"change of GDP growth rate\" , ascending=False)"
   ]
  },
  {
   "cell_type": "code",
   "execution_count": null,
   "metadata": {},
   "outputs": [],
   "source": [
    "pd.set_option('display.max_rows', None)"
   ]
  },
  {
   "cell_type": "code",
   "execution_count": null,
   "metadata": {},
   "outputs": [],
   "source": [
    "Dgdp"
   ]
  },
  {
   "cell_type": "code",
   "execution_count": null,
   "metadata": {},
   "outputs": [],
   "source": [
    "#Dgdp.head(n=50)"
   ]
  },
  {
   "cell_type": "code",
   "execution_count": null,
   "metadata": {},
   "outputs": [],
   "source": [
    "#Dgdp.tail(n=50)"
   ]
  },
  {
   "cell_type": "code",
   "execution_count": null,
   "metadata": {},
   "outputs": [],
   "source": [
    "#import os\n",
    "#os.getcwd()\n"
   ]
  },
  {
   "cell_type": "code",
   "execution_count": null,
   "metadata": {},
   "outputs": [],
   "source": [
    "#GDP_D.to_csv()"
   ]
  },
  {
   "cell_type": "code",
   "execution_count": null,
   "metadata": {},
   "outputs": [],
   "source": [
    "#GDP_D.to_csv('GDP-D.csv') #相对位置，保存在getwcd()获得的路径下\n",
    "#GDP_D.to_csv('C:/Users/ziqi zhu/Desktop.csv') #绝对位置\n",
    "#GDP_D.to_csv('C:/Users/ziqi zhu/Desktop.csv',columns=['D'])"
   ]
  },
  {
   "cell_type": "code",
   "execution_count": null,
   "metadata": {},
   "outputs": [],
   "source": [
    "#G2019=df_GDP.loc[:,['Real GDP growth (Annual percent change)','2019']]\n",
    "#G2019"
   ]
  },
  {
   "cell_type": "code",
   "execution_count": null,
   "metadata": {},
   "outputs": [],
   "source": [
    "#G2020=df_GDP.loc[:,['Real GDP growth (Annual percent change)','2020']]\n",
    "#G2020"
   ]
  },
  {
   "cell_type": "markdown",
   "metadata": {},
   "source": [
    "# IMF-UNEMP"
   ]
  },
  {
   "cell_type": "code",
   "execution_count": null,
   "metadata": {},
   "outputs": [],
   "source": [
    "csv_unemployment = pd.read_csv('C:/Users/ziqi zhu/Desktop/DATA/COUNTRY/IMF UN ALL.csv')\n",
    "df_unem = pd.DataFrame(csv_unemployment)\n",
    "df_unem.head()"
   ]
  },
  {
   "cell_type": "code",
   "execution_count": null,
   "metadata": {},
   "outputs": [],
   "source": [
    "df_unem[['2020','2019']] =df_unem[['2020','2019']].apply(pd.to_numeric,errors='coerce')"
   ]
  },
  {
   "cell_type": "code",
   "execution_count": null,
   "metadata": {},
   "outputs": [],
   "source": [
    "df_unem['change of unemployment']=df_unem['2020']-df_unem['2019']\n",
    "un_D=df_unem.loc[:,['Unemployment rate (Percent)','change of unemployment']]\n",
    "Dun=un_D.sort_values(by=\"change of unemployment\" , ascending=False)"
   ]
  },
  {
   "cell_type": "code",
   "execution_count": null,
   "metadata": {},
   "outputs": [],
   "source": [
    "Dun"
   ]
  },
  {
   "cell_type": "markdown",
   "metadata": {},
   "source": [
    "# IMF-CPI"
   ]
  },
  {
   "cell_type": "code",
   "execution_count": null,
   "metadata": {},
   "outputs": [],
   "source": [
    "csv_CPI = pd.read_csv('C:/Users/ziqi zhu/Desktop/DATA/COUNTRY/IMF CPI ALL.csv')\n",
    "df_CPI = pd.DataFrame(csv_CPI)\n",
    "df_CPI.head()"
   ]
  },
  {
   "cell_type": "code",
   "execution_count": null,
   "metadata": {},
   "outputs": [],
   "source": [
    "df_CPI[['2020','2019']] =df_CPI[['2020','2019']].apply(pd.to_numeric,errors='coerce')"
   ]
  },
  {
   "cell_type": "code",
   "execution_count": null,
   "metadata": {},
   "outputs": [],
   "source": [
    "df_CPI['change of CPI']=df_CPI['2020']-df_CPI['2019']\n",
    "CPI_D=df_CPI.loc[:,['Inflation rate, average consumer prices (Annual percent change)','change of CPI']]\n",
    "DCPI=CPI_D.sort_values(by=\"change of CPI\" , ascending=False)"
   ]
  },
  {
   "cell_type": "code",
   "execution_count": null,
   "metadata": {},
   "outputs": [],
   "source": [
    "pd.set_option('display.max_rows', None)"
   ]
  },
  {
   "cell_type": "code",
   "execution_count": null,
   "metadata": {},
   "outputs": [],
   "source": [
    "DCPI"
   ]
  },
  {
   "cell_type": "markdown",
   "metadata": {},
   "source": [
    "# PMI"
   ]
  },
  {
   "cell_type": "code",
   "execution_count": null,
   "metadata": {},
   "outputs": [],
   "source": []
  },
  {
   "cell_type": "code",
   "execution_count": null,
   "metadata": {},
   "outputs": [],
   "source": []
  },
  {
   "cell_type": "code",
   "execution_count": null,
   "metadata": {},
   "outputs": [],
   "source": []
  },
  {
   "cell_type": "markdown",
   "metadata": {},
   "source": [
    "# IMF&FRED-GDP BY COUNTRIES"
   ]
  },
  {
   "cell_type": "code",
   "execution_count": null,
   "metadata": {},
   "outputs": [],
   "source": [
    "GDP = pd.read_csv('C:/Users/ziqi zhu/Desktop/DATA/COUNTRY/GDP.csv')\n",
    "GDP = pd.DataFrame(GDP)\n",
    "GDP"
   ]
  },
  {
   "cell_type": "code",
   "execution_count": null,
   "metadata": {},
   "outputs": [],
   "source": [
    "year=GDP.iloc[:,0]\n",
    "ChinaGDP=GDP.iloc[:,1]\n",
    "USGDP=GDP.iloc[:,2]\n",
    "UKGDP=GDP.iloc[:,3]\n",
    "JapanGDP=GDP.iloc[:,4]\n",
    "WorldGDP=GDP.iloc[:,5]"
   ]
  },
  {
   "cell_type": "code",
   "execution_count": null,
   "metadata": {},
   "outputs": [],
   "source": [
    "GDP = GDP.apply(pd.to_numeric,errors='coerce')"
   ]
  },
  {
   "cell_type": "code",
   "execution_count": null,
   "metadata": {},
   "outputs": [],
   "source": [
    "recs2k_end"
   ]
  },
  {
   "cell_type": "code",
   "execution_count": null,
   "metadata": {},
   "outputs": [],
   "source": [
    "recs_2k8 "
   ]
  },
  {
   "cell_type": "code",
   "execution_count": null,
   "metadata": {},
   "outputs": [],
   "source": []
  },
  {
   "cell_type": "code",
   "execution_count": null,
   "metadata": {},
   "outputs": [],
   "source": [
    "recs = GDP.query('USREC==1')\n",
    "recs_2k = recs.iloc[0,:]\n",
    "recs_2k8 = recs.iloc[1:2,:]\n",
    "recs_2k20=recs.iloc[3:,:]\n",
    "\n",
    "recs2k_bgn = recs_2k.index[0]\n",
    "recs2k_end = recs_2k.index[1]\n",
    "\n",
    "recs2k8_bgn = recs_2k8.index[0]\n",
    "recs2k8_end = recs_2k8.index[1]\n",
    "\n",
    "for ax in axes:\n",
    "    plot.axvspan(recs2k_bgn, recs2k_end, color=sns.xkcd_rgb['grey'], alpha=0.5)\n",
    "    ax.axvspan(recs2k8_bgn, recs2k8_end,  color=sns.xkcd_rgb['grey'], alpha=0.5)"
   ]
  },
  {
   "cell_type": "code",
   "execution_count": null,
   "metadata": {},
   "outputs": [],
   "source": [
    "import matplotlib\n",
    "import matplotlib.pyplot as plt\n",
    "plt.figure(figsize=(12,5))\n",
    "fig, ax = plt.subplots()\n",
    "\n",
    "\n",
    "x_ticks = np.arange(2000, 2021, 1,)\n",
    "plt.xticks(x_ticks,rotation=90)\n",
    "plt.plot(year , ChinaGDP, '.-', color='crimson',label='CHINA')\n",
    "plt.plot(year , USGDP, '.-', color='skyblue',label='US')\n",
    "plt.plot(year , UKGDP, '.-', color='blue',label='UK')\n",
    "plt.plot(year , JapanGDP, '.-', color='green',label='JAPAN')\n",
    "plt.plot(year , WorldGDP, color='orange',lw=3,alpha=0.6,label='WORLD')\n",
    "\n",
    "recs = GDP.query('USREC==1')\n",
    "recs_2k = recs.iloc[0,:]\n",
    "recs_2k8 = recs.iloc[1:2,:]\n",
    "recs_2k20=recs.iloc[3:,:]\n",
    "plt.axvspan(2001, 2002, color=sns.xkcd_rgb['grey'], alpha=0.5)\n",
    "plt.axvspan(2008, 2009.5, color=sns.xkcd_rgb['grey'], alpha=0.5)\n",
    "plt.axvspan(2019, 2020, color=sns.xkcd_rgb['grey'], alpha=0.5)\n",
    "    \n",
    "plt.legend()\n",
    "plt.xlabel('year')\n",
    "plt.ylabel('GDP REAL GROWTH RATE')\n",
    "plt.title('GDP REAL GROWTH RATE')"
   ]
  },
  {
   "cell_type": "code",
   "execution_count": null,
   "metadata": {},
   "outputs": [],
   "source": [
    "plt.rcParams['figure.figsize'] = (12.0,5.0) \n",
    "fig = plt.figure()\n",
    "\n",
    "\n",
    "ax1 = fig.add_subplot(111)\n",
    "GDP2019=[6.1,2.3,1.4,0.7,2.9]\n",
    "GDP2020=[1.2,-5.9,-6.5,-5.2,-3.0]\n",
    "labels=['CHINA','US','UK','JAPNA','WORLD']\n",
    "bar_width = 0.35\n",
    "ax1.bar(np.arange(5), GDP2019, color = 'steelblue', alpha = 0.8, width = bar_width, tick_label=labels,label = \"2019\")\n",
    "ax1.legend(loc=3, bbox_to_anchor=(1.05,1.0),borderaxespad = 0.) \n",
    "ax1.bar(np.arange(5)+bar_width, GDP2020, color = 'indianred', alpha = 0.8, width = bar_width, tick_label=labels,label = '2020')\n",
    "ax1.legend(loc=3, bbox_to_anchor=(1.05,1.0),borderaxespad = 0.) \n",
    "plt.xticks(range(0, 5),['CHINA','US','UK','JAPNA','WORLD'])\n",
    "ax1.set_ylabel('GDP REAL GROWTH RATE')\n",
    "plt.title('GDP REAL GROWTH')\n",
    "plt.xticks(np.arange(5)+bar_width,labels)\n",
    "# 为每个条形图添加数值标签\n",
    "\n",
    "for x2019,y2019 in enumerate(GDP2019):\n",
    "    plt.text(x2019, y2019+0.01, '%s' %y2019)\n",
    "\n",
    "for x2020,y2020 in enumerate(GDP2020):\n",
    "    plt.text(x2020+bar_width, y2020+0.01, '%s' %y2020)\n",
    "    \n",
    "DGDP=GDP.iloc[19,1:6]-GDP.iloc[20,1:6]\n",
    "np.arange(5)\n",
    "ax2 = ax1.twinx() \n",
    "ax2.plot(np.arange(5),DGDP, 'r',marker='*',ms=10,label = \"absolute difference\")\n",
    "\n",
    "ax2.set_ylabel('GDP difference',fontsize='15')\n",
    "ax2.legend(loc=2, bbox_to_anchor=(1.05,1.0),borderaxespad = 0.) \n",
    "\n",
    "\n",
    "\n",
    "# 显示图形\n",
    "plt.show()"
   ]
  },
  {
   "cell_type": "code",
   "execution_count": null,
   "metadata": {},
   "outputs": [],
   "source": []
  },
  {
   "cell_type": "markdown",
   "metadata": {},
   "source": [
    "# IMF-CPI"
   ]
  },
  {
   "cell_type": "code",
   "execution_count": null,
   "metadata": {},
   "outputs": [],
   "source": [
    "CPI = pd.read_csv('C:/Users/ziqi zhu/Desktop/DATA/COUNTRY/CPI.csv')\n",
    "CPI= pd.DataFrame(CPI)\n",
    "CPI"
   ]
  },
  {
   "cell_type": "code",
   "execution_count": null,
   "metadata": {},
   "outputs": [],
   "source": [
    "year=CPI.iloc[:,0]\n",
    "ChinaCPI=CPI.iloc[:,1]\n",
    "USCPI=CPI.iloc[:,2]\n",
    "UKCPI=CPI.iloc[:,3]\n",
    "JapanCPI=CPI.iloc[:,4]\n",
    "WorldCPI=CPI.iloc[:,5]"
   ]
  },
  {
   "cell_type": "code",
   "execution_count": null,
   "metadata": {},
   "outputs": [],
   "source": [
    "CPI = CPI.apply(pd.to_numeric,errors='coerce')"
   ]
  },
  {
   "cell_type": "code",
   "execution_count": null,
   "metadata": {},
   "outputs": [],
   "source": [
    "import matplotlib\n",
    "import matplotlib.pyplot as plt\n",
    "plt.figure(figsize=(12,5))\n",
    "fig, ax = plt.subplots()\n",
    "\n",
    "x_ticks = np.arange(2000, 2021, 1,)\n",
    "plt.xticks(x_ticks,rotation=90)\n",
    "plt.plot(year , ChinaCPI, '.-', color='crimson',label='CHINA')\n",
    "plt.plot(year , USCPI, '.-', color='skyblue',label='US')\n",
    "plt.plot(year , UKCPI, '.-', color='blue',label='UK')\n",
    "plt.plot(year , JapanCPI, '.-', color='green',label='JAPAN')\n",
    "plt.plot(year , WorldCPI, color='orange',lw=3,alpha=0.6,label='WORLD')\n",
    "\n",
    "recs = CPI.query('USREC==1')\n",
    "recs_2k = recs.iloc[0,:]\n",
    "recs_2k8 = recs.iloc[1:2,:]\n",
    "recs_2k20=recs.iloc[3:,:]\n",
    "plt.axvspan(2001, 2002, color=sns.xkcd_rgb['grey'], alpha=0.5)\n",
    "plt.axvspan(2008, 2009.5, color=sns.xkcd_rgb['grey'], alpha=0.5)\n",
    "plt.axvspan(2019, 2020, color=sns.xkcd_rgb['grey'], alpha=0.5)\n",
    "\n",
    "plt.legend()\n",
    "plt.xlabel('year')\n",
    "plt.ylabel('CPI')\n",
    "plt.title('CPI')"
   ]
  },
  {
   "cell_type": "code",
   "execution_count": null,
   "metadata": {},
   "outputs": [],
   "source": [
    "plt.rcParams['figure.figsize'] = (12.0,5.0) \n",
    "fig = plt.figure()\n",
    "\n",
    "ax1 = fig.add_subplot(111)\n",
    "CPI2019=[2.9,1.8,1.8,0.5,3.6]\n",
    "CPI2020=[3,0.6,1.2,0.2,3]\n",
    "bar_width = 0.35\n",
    "labels=['CHINA','US','UK','JAPNA','WORLD']\n",
    "ax1.bar(np.arange(5), CPI2019, color = 'steelblue', alpha = 0.8, width = bar_width, tick_label=labels,label = \"2019\")\n",
    "ax1.legend(loc=3, bbox_to_anchor=(1.05,1.0),borderaxespad = 0.) \n",
    "ax1.bar(np.arange(5)+bar_width, CPI2020, color = 'indianred', alpha = 0.8, width = bar_width, tick_label=labels,label = '2020')\n",
    "ax1.legend(loc=3, bbox_to_anchor=(1.05,1.0),borderaxespad = 0.) \n",
    "plt.xticks(range(0, 5),['CHINA','US','UK','JAPNA','WORLD'])\n",
    "ax1.set_ylabel('CPI')\n",
    "plt.title('CPI')\n",
    "plt.xticks(np.arange(5)+bar_width,labels)\n",
    "# 为每个条形图添加数值标签\n",
    "\n",
    "for x2019,y2019 in enumerate(CPI2019):\n",
    "    plt.text(x2019, y2019+0.01, '%s' %y2019)\n",
    "\n",
    "for x2020,y2020 in enumerate(CPI2020):\n",
    "    plt.text(x2020+bar_width, y2020+0.01, '%s' %y2020)\n",
    "    \n",
    "DCPI=CPI.iloc[19,1:6]-CPI.iloc[20,1:6]\n",
    "np.arange(5)\n",
    "ax2 = ax1.twinx() \n",
    "ax2.plot(np.arange(5),DCPI, 'r',marker='*',ms=10,label = \"absolute difference\")\n",
    "\n",
    "ax2.set_ylabel('CPI difference',fontsize='15')\n",
    "\n",
    "ax2.legend(loc=2, bbox_to_anchor=(1.05,1.0),borderaxespad = 0.) \n",
    "\n",
    "# 显示图形\n",
    "plt.show()    \n"
   ]
  },
  {
   "cell_type": "code",
   "execution_count": null,
   "metadata": {},
   "outputs": [],
   "source": []
  },
  {
   "cell_type": "markdown",
   "metadata": {},
   "source": [
    "# IMF&OECD -UNEMPLOYMENT"
   ]
  },
  {
   "cell_type": "code",
   "execution_count": null,
   "metadata": {},
   "outputs": [],
   "source": [
    "UNEM = pd.read_csv('C:/Users/ziqi zhu/Desktop/DATA/COUNTRY/UNEMPLOYMENT.csv')\n",
    "UNEM= pd.DataFrame(UNEM)\n",
    "UNEM"
   ]
  },
  {
   "cell_type": "code",
   "execution_count": null,
   "metadata": {},
   "outputs": [],
   "source": [
    "year=UNEM.iloc[:,0]\n",
    "ChinaUNEM=UNEM.iloc[:,1]\n",
    "USUNEM=UNEM.iloc[:,2]\n",
    "UKUNEM=UNEM.iloc[:,3]\n",
    "JapanUNEM=UNEM.iloc[:,4]\n",
    "OECDUNEM=UNEM.iloc[:,5]"
   ]
  },
  {
   "cell_type": "code",
   "execution_count": null,
   "metadata": {},
   "outputs": [],
   "source": [
    "UNEM = UNEM.apply(pd.to_numeric,errors='coerce')"
   ]
  },
  {
   "cell_type": "code",
   "execution_count": null,
   "metadata": {},
   "outputs": [],
   "source": [
    "import matplotlib\n",
    "import matplotlib.pyplot as plt\n",
    "plt.figure(figsize=(12,5))\n",
    "fig, ax = plt.subplots()\n",
    "\n",
    "x_ticks = np.arange(2000, 2021, 1,)\n",
    "plt.xticks(x_ticks,rotation=90)\n",
    "plt.plot(year , ChinaUNEM, '.-', color='crimson',label='CHINA')\n",
    "plt.plot(year , USUNEM, '.-', color='skyblue',label='US')\n",
    "plt.plot(year , UKUNEM, '.-', color='blue',label='UK')\n",
    "plt.plot(year , JapanUNEM, '.-', color='green',label='JAPAN')\n",
    "plt.plot(year , OECDUNEM, color='yellow',lw=3,alpha=0.6,label='OECD')\n",
    "\n",
    "recs = UNEM.query('USREC==1')\n",
    "recs_2k = recs.iloc[0,:]\n",
    "recs_2k8 = recs.iloc[1:2,:]\n",
    "recs_2k20=recs.iloc[3:,:]\n",
    "plt.axvspan(2001, 2002, color=sns.xkcd_rgb['grey'], alpha=0.5)\n",
    "plt.axvspan(2008, 2009.5, color=sns.xkcd_rgb['grey'], alpha=0.5)\n",
    "plt.axvspan(2019, 2020, color=sns.xkcd_rgb['grey'], alpha=0.5)\n",
    "\n",
    "plt.legend()\n",
    "plt.xlabel('year')\n",
    "plt.ylabel('UNEMPLOYMENT RATE')\n",
    "plt.title('UNEMPLOYMENT RATE')"
   ]
  },
  {
   "cell_type": "code",
   "execution_count": null,
   "metadata": {},
   "outputs": [],
   "source": [
    "plt.rcParams['figure.figsize'] = (12.0,5.0) \n",
    "fig = plt.figure()\n",
    "\n",
    "ax1 = fig.add_subplot(111)\n",
    "UNEM2019=[3.6,3.7,3.8,2.4,5.4]\n",
    "UNEM2020=[4.3,10.4,4.8,3,5.6]\n",
    "bar_width = 0.35\n",
    "labels=['CHINA','US','UK','JAPNA','WORLD']\n",
    "ax1.bar(np.arange(5), UNEM2019, color = 'steelblue', alpha = 0.8, width = bar_width, tick_label=labels,label = \"2019\")\n",
    "ax1.legend(loc=3, bbox_to_anchor=(1.05,1.0),borderaxespad =0.) \n",
    "ax1.bar(np.arange(5)+bar_width, UNEM2020, color = 'indianred', alpha = 0.8, width = bar_width, tick_label=labels,label = '2020')\n",
    "ax1.legend(loc=3, bbox_to_anchor=(1.05,1.0),borderaxespad = 0.) \n",
    "plt.xticks(range(0, 5),['CHINA','US','UK','JAPNA','WORLD'])\n",
    "ax1.set_ylabel('UNEM')\n",
    "plt.title('UNEM')\n",
    "plt.xticks(np.arange(5)+bar_width,labels)\n",
    "# 为每个条形图添加数值标签\n",
    "\n",
    "for x2019,y2019 in enumerate(UNEM2019):\n",
    "    plt.text(x2019, y2019+0.01, '%s' %y2019)\n",
    "\n",
    "for x2020,y2020 in enumerate(UNEM2020):\n",
    "    plt.text(x2020+bar_width, y2020+0.01, '%s' %y2020)\n",
    "    \n",
    "DUNEM=UNEM.iloc[20,1:6]-UNEM.iloc[19,1:6]\n",
    "np.arange(5)\n",
    "ax2 = ax1.twinx() \n",
    "ax2.plot(np.arange(5),DUNEM, 'r',marker='*',ms=10,label = \"absolute difference\")\n",
    "\n",
    "ax2.set_ylabel('UNEM difference',fontsize='15')\n",
    "ax2.legend(loc=2, bbox_to_anchor=(1.05,1.0),borderaxespad = 0.) \n",
    "\n",
    "\n",
    "# 显示图形\n",
    "plt.show()    \n"
   ]
  },
  {
   "cell_type": "markdown",
   "metadata": {},
   "source": [
    "# WTI-oil price"
   ]
  },
  {
   "cell_type": "code",
   "execution_count": null,
   "metadata": {},
   "outputs": [],
   "source": [
    "OILPRICE = pd.read_csv('C:/Users/ziqi zhu/Desktop/DATA/TREND/BL-OIL-COMB.csv')\n",
    "OIL= pd.DataFrame(OILPRICE)\n",
    "WOIL=OIL.dropna(axis=0,how='any') \n",
    "WOIL\n"
   ]
  },
  {
   "cell_type": "code",
   "execution_count": null,
   "metadata": {},
   "outputs": [],
   "source": [
    "\n",
    "VALUE=WOIL.iloc[:,1]\n",
    "VALUE\n",
    "DATE=WOIL.iloc[:,0]\n",
    "DATE\n",
    "plt.figure(figsize=(12,5))\n",
    "fig, ax = plt.subplots()\n",
    "plt.yticks(range(20,200,10))\n",
    "ax.plot(DATE, VALUE, '-', color='SKYBLUE',label='WTI OIL PRICE')\n",
    "\n",
    "\n",
    "plt.legend()"
   ]
  },
  {
   "cell_type": "markdown",
   "metadata": {},
   "source": [
    "# YAHOO-VIX"
   ]
  },
  {
   "cell_type": "code",
   "execution_count": null,
   "metadata": {},
   "outputs": [],
   "source": [
    "VIX = pd.read_csv('C:/Users/ziqi zhu/Desktop/DATA/TREND/VIX.csv')\n",
    "VIX= pd.DataFrame(VIX)\n",
    "VIX"
   ]
  },
  {
   "cell_type": "code",
   "execution_count": null,
   "metadata": {},
   "outputs": [],
   "source": [
    "DATE=VIX.iloc[:,0]\n",
    "DATE"
   ]
  },
  {
   "cell_type": "code",
   "execution_count": null,
   "metadata": {},
   "outputs": [],
   "source": [
    "import matplotlib.dates as mdates\n",
    "from matplotlib.dates import MonthLocator,DateFormatter\n",
    "\n",
    "\n",
    "VIX=VIX.dropna(axis=0,how='any') \n",
    "CLOSE=VIX.iloc[:,1]\n",
    "DATE=VIX.iloc[:,0]\n",
    "\n",
    "plt.figure(figsize=(12,5))\n",
    "fig, ax = plt.subplots()\n",
    "\n",
    "plt.yticks(range(20,200,10))\n",
    "ax.plot(DATE, CLOSE, '-', color='SKYBLUE',label='VIX')\n",
    "\n",
    "\n",
    "\n",
    "\n",
    "plt.tight_layout()\n",
    "plt.legend()\n",
    "plt.show()"
   ]
  },
  {
   "cell_type": "code",
   "execution_count": null,
   "metadata": {},
   "outputs": [],
   "source": [
    "ax.xaxis.set_major_locator(dates.YearLocator())\n",
    "ax.xaxis.set_major_formatter(dates.DateFormatter('%Y'))\n",
    "\n",
    "\n",
    "plt.xticks(range(0,30,3))               #个数 这里是三个是一个间隔  共10个  和下面的一样\n",
    "ax2.set_xticklabels(data.index[::3]) "
   ]
  },
  {
   "cell_type": "markdown",
   "metadata": {},
   "source": [
    "# DOW J"
   ]
  },
  {
   "cell_type": "code",
   "execution_count": null,
   "metadata": {},
   "outputs": [],
   "source": [
    "DJI = pd.read_csv('C:/Users/ziqi zhu/Desktop/DATA/TREND/DJI.csv')\n",
    "DJI= pd.DataFrame(DJI)\n",
    "DJI"
   ]
  },
  {
   "cell_type": "code",
   "execution_count": null,
   "metadata": {},
   "outputs": [],
   "source": [
    "DJI=DJI.dropna(axis=0,how='any') \n",
    "CLOSE=DJI.iloc[:,1]\n",
    "DATE=DJI.iloc[:,0]\n",
    "plt.figure(figsize=(12,5))\n",
    "fig, ax = plt.subplots()\n",
    "plt.yticks(range(20,200,10))\n",
    "ax.plot(DATE, CLOSE, '-', color='SKYBLUE',label='DJI')\n",
    "plt.legend()"
   ]
  },
  {
   "cell_type": "code",
   "execution_count": null,
   "metadata": {},
   "outputs": [],
   "source": []
  },
  {
   "cell_type": "markdown",
   "metadata": {},
   "source": [
    "# industry"
   ]
  },
  {
   "cell_type": "markdown",
   "metadata": {},
   "source": [
    "# china sector"
   ]
  },
  {
   "cell_type": "code",
   "execution_count": null,
   "metadata": {},
   "outputs": [],
   "source": [
    "from matplotlib import font_manager as fm\n",
    "import matplotlib as mpl\n",
    "plt.style.use('ggplot')"
   ]
  },
  {
   "cell_type": "code",
   "execution_count": null,
   "metadata": {},
   "outputs": [],
   "source": [
    "SECCHINA = pd.read_csv('C:/Users/ziqi zhu/Desktop/DATA/INDUSTRY/CHINA.csv')\n",
    "SECCHINA= pd.DataFrame(SECCHINA)\n",
    "SECCHINA"
   ]
  },
  {
   "cell_type": "code",
   "execution_count": null,
   "metadata": {},
   "outputs": [],
   "source": [
    "SECTORC=SECCHINA.iloc[:,0]\n",
    "SECTORC\n",
    "PERC=SECCHINA.iloc[:,1]\n",
    "SECCHINA = SECCHINA.apply(pd.to_numeric,errors='coerce')\n",
    "plt.pie(PERC,labels=SECTORC,autopct='%.0f%%')\n",
    "plt.axis('equal')"
   ]
  },
  {
   "cell_type": "markdown",
   "metadata": {},
   "source": [
    "# US SECTOR"
   ]
  },
  {
   "cell_type": "code",
   "execution_count": null,
   "metadata": {},
   "outputs": [],
   "source": [
    "SECUS = pd.read_csv('C:/Users/ziqi zhu/Desktop/DATA/INDUSTRY/US.csv')\n",
    "SECUS= pd.DataFrame(SECUS)\n",
    "SECUS"
   ]
  },
  {
   "cell_type": "code",
   "execution_count": null,
   "metadata": {},
   "outputs": [],
   "source": [
    "SECTORUS=SECUS.iloc[:,0]\n",
    "SECTORUS\n",
    "PERUS=SECUS.iloc[:,1]\n",
    "SECUS = SECUS.apply(pd.to_numeric,errors='coerce')\n",
    "plt.pie(PERUS,labels=SECTORUS,autopct='%.0f%%')\n",
    "plt.axis('equal')"
   ]
  },
  {
   "cell_type": "markdown",
   "metadata": {},
   "source": [
    "# UK SECTOR"
   ]
  },
  {
   "cell_type": "code",
   "execution_count": null,
   "metadata": {},
   "outputs": [],
   "source": [
    "SECUK = pd.read_csv('C:/Users/ziqi zhu/Desktop/DATA/INDUSTRY/UK.csv')\n",
    "SECUK= pd.DataFrame(SECUK)\n",
    "SECUK"
   ]
  },
  {
   "cell_type": "code",
   "execution_count": null,
   "metadata": {},
   "outputs": [],
   "source": [
    "SECTORUK=SECUK.iloc[:,0]\n",
    "SECTORUK\n",
    "PERUK=SECUK.iloc[:,1]\n",
    "SECUK = SECUK.apply(pd.to_numeric,errors='coerce')\n",
    "plt.pie(PERUK,labels=SECTORUK,autopct='%.0f%%')\n",
    "plt.axis('equal')"
   ]
  },
  {
   "cell_type": "markdown",
   "metadata": {},
   "source": [
    "# JAPAN SECTOR"
   ]
  },
  {
   "cell_type": "code",
   "execution_count": null,
   "metadata": {},
   "outputs": [],
   "source": [
    "SECJ = pd.read_csv('C:/Users/ziqi zhu/Desktop/DATA/INDUSTRY/JAPAN.csv')\n",
    "SECJ= pd.DataFrame(SECJ)\n",
    "SECJ"
   ]
  },
  {
   "cell_type": "code",
   "execution_count": null,
   "metadata": {},
   "outputs": [],
   "source": [
    "SECTORJ=SECJ.iloc[:,0]\n",
    "SECTORJ\n",
    "PERJ=SECJ.iloc[:,1]\n",
    "SECJ = SECJ.apply(pd.to_numeric,errors='coerce')\n",
    "plt.pie(PERJ,labels=SECTORJ,autopct='%.0f%%')\n",
    "plt.axis('equal')"
   ]
  },
  {
   "cell_type": "code",
   "execution_count": null,
   "metadata": {},
   "outputs": [],
   "source": []
  }
 ],
 "metadata": {
  "kernelspec": {
   "display_name": "Python 3",
   "language": "python",
   "name": "python3"
  },
  "language_info": {
   "codemirror_mode": {
    "name": "ipython",
    "version": 3
   },
   "file_extension": ".py",
   "mimetype": "text/x-python",
   "name": "python",
   "nbconvert_exporter": "python",
   "pygments_lexer": "ipython3",
   "version": "3.7.4"
  }
 },
 "nbformat": 4,
 "nbformat_minor": 2
}
